{
  "nbformat": 4,
  "nbformat_minor": 0,
  "metadata": {
    "colab": {
      "name": "TfliteTester.ipynb",
      "provenance": [],
      "collapsed_sections": [],
      "mount_file_id": "1sKw3-g3-2QHB35o3SJFEF5PDoh5mlYNw",
      "authorship_tag": "ABX9TyMbZ2mjJ1cpJRsG531niTnm",
      "include_colab_link": true
    },
    "kernelspec": {
      "name": "python3",
      "display_name": "Python 3"
    },
    "language_info": {
      "name": "python"
    }
  },
  "cells": [
    {
      "cell_type": "markdown",
      "metadata": {
        "id": "view-in-github",
        "colab_type": "text"
      },
      "source": [
        "<a href=\"https://colab.research.google.com/github/pratikmehkarkar/TfLiteModelTester/blob/main/TfliteTester.ipynb\" target=\"_parent\"><img src=\"https://colab.research.google.com/assets/colab-badge.svg\" alt=\"Open In Colab\"/></a>"
      ]
    },
    {
      "cell_type": "code",
      "execution_count": null,
      "metadata": {
        "id": "-qcAOwt5ZuUu"
      },
      "outputs": [],
      "source": [
        "import numpy as np\n",
        "import tensorflow as tf\n",
        "\n",
        "# Load the TFLite model and allocate tensors.\n",
        "interpreter = tf.lite.Interpreter(model_path=\"model.tflite\")\n",
        "interpreter.allocate_tensors()\n",
        "\n",
        "# Get input and output tensors.\n",
        "input_details = interpreter.get_input_details()\n",
        "input_details"
      ]
    },
    {
      "cell_type": "code",
      "source": [
        "output_details = interpreter.get_output_details()\n",
        "output_details"
      ],
      "metadata": {
        "id": "V5NsbxosbANx"
      },
      "execution_count": null,
      "outputs": []
    },
    {
      "cell_type": "code",
      "source": [
        "from PIL import Image\n",
        "\n",
        "# im = Image.open(\"animal.jpg\")\n",
        "im = Image.open(\"1357.jpeg\")\n",
        "# im = Image.open(\"banana.jpg\")"
      ],
      "metadata": {
        "id": "PYmN_as8bg3i"
      },
      "execution_count": null,
      "outputs": []
    },
    {
      "cell_type": "code",
      "source": [
        "print(im.size)"
      ],
      "metadata": {
        "id": "sHa6v3JYbsFW"
      },
      "execution_count": null,
      "outputs": []
    },
    {
      "cell_type": "code",
      "source": [
        "res_im = im.resize((300, 300))\n",
        "res_im"
      ],
      "metadata": {
        "id": "5EhoBNgeb6Kg"
      },
      "execution_count": null,
      "outputs": []
    },
    {
      "cell_type": "code",
      "source": [
        "np_res_im = np.array(res_im)\n",
        "np_res_im = (np_res_im).astype('float32')\n",
        "np_res_im"
      ],
      "metadata": {
        "id": "YdOunVtIb9LX"
      },
      "execution_count": null,
      "outputs": []
    },
    {
      "cell_type": "code",
      "source": [
        "input_details[0]['shape']"
      ],
      "metadata": {
        "id": "JfMY9coIcFG_"
      },
      "execution_count": null,
      "outputs": []
    },
    {
      "cell_type": "code",
      "source": [
        "np_res_im.shape"
      ],
      "metadata": {
        "id": "5gepICT0cGLA"
      },
      "execution_count": null,
      "outputs": []
    },
    {
      "cell_type": "code",
      "source": [
        "if len(np_res_im.shape) == 3:\n",
        "    np_res_im = np.expand_dims(np_res_im, 0)\n",
        "# Test the model on random input data.\n",
        "input_shape = input_details[0]['shape']\n",
        "input_data = np_res_im\n",
        "interpreter.set_tensor(input_details[0]['index'], input_data)\n",
        "\n",
        "interpreter.invoke()\n",
        "\n",
        "# The function `get_tensor()` returns a copy of the tensor data.\n",
        "# Use `tensor()` in order to get a pointer to the tensor.\n",
        "output_data = interpreter.get_tensor(output_details[0]['index'])"
      ],
      "metadata": {
        "id": "mVkl-XMQcLNg"
      },
      "execution_count": null,
      "outputs": []
    },
    {
      "cell_type": "code",
      "source": [
        "output_data.shape"
      ],
      "metadata": {
        "id": "6Mpy0lqUdvU4"
      },
      "execution_count": null,
      "outputs": []
    },
    {
      "cell_type": "code",
      "source": [
        "output_data[0].shape"
      ],
      "metadata": {
        "id": "oWL5FzKcdyWr"
      },
      "execution_count": null,
      "outputs": []
    },
    {
      "cell_type": "code",
      "source": [
        "classification_prob = []\n",
        "classification_label = []\n",
        "total = 0\n",
        "for index,prob in enumerate(output_data[0]):\n",
        "    if prob != 0:\n",
        "        classification_prob.append(prob)\n",
        "        total += prob\n",
        "        classification_label.append(index)"
      ],
      "metadata": {
        "id": "5eDWZny5d2ht"
      },
      "execution_count": null,
      "outputs": []
    },
    {
      "cell_type": "code",
      "source": [
        "label_names = [line.rstrip('\\n') for line in open(\"mylabel.txt\")]\n",
        "label_names"
      ],
      "metadata": {
        "id": "dYt3g1TMd6YO"
      },
      "execution_count": null,
      "outputs": []
    },
    {
      "cell_type": "code",
      "source": [
        "found_labels = np.array(label_names)[classification_label]"
      ],
      "metadata": {
        "id": "H7-tidKteIzE"
      },
      "execution_count": null,
      "outputs": []
    },
    {
      "cell_type": "code",
      "source": [
        "import pandas as pd\n",
        "\n",
        "df = pd.DataFrame(classification_prob/total, found_labels)\n",
        "sorted_df = df.sort_values(by=0,ascending=False)\n",
        "sorted_df"
      ],
      "metadata": {
        "id": "x1YzyR9peLjd"
      },
      "execution_count": null,
      "outputs": []
    }
  ]
}