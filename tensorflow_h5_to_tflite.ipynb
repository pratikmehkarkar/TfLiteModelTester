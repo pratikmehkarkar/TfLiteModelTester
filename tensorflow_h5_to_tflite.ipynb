{
  "nbformat": 4,
  "nbformat_minor": 0,
  "metadata": {
    "colab": {
      "provenance": [],
      "authorship_tag": "ABX9TyOu25P6i4sBalVlzgihmkgX",
      "include_colab_link": true
    },
    "kernelspec": {
      "name": "python3",
      "display_name": "Python 3"
    },
    "language_info": {
      "name": "python"
    }
  },
  "cells": [
    {
      "cell_type": "markdown",
      "metadata": {
        "id": "view-in-github",
        "colab_type": "text"
      },
      "source": [
        "<a href=\"https://colab.research.google.com/github/pratikmehkarkar/TfLiteModelTester/blob/main/tensorflow_h5_to_tflite.ipynb\" target=\"_parent\"><img src=\"https://colab.research.google.com/assets/colab-badge.svg\" alt=\"Open In Colab\"/></a>"
      ]
    },
    {
      "cell_type": "code",
      "execution_count": 2,
      "metadata": {
        "colab": {
          "base_uri": "https://localhost:8080/"
        },
        "id": "XSb6zBJyCUHt",
        "outputId": "fc06ba87-5340-495b-8556-a42a4ed8d0a0"
      },
      "outputs": [
        {
          "output_type": "stream",
          "name": "stderr",
          "text": [
            "WARNING:absl:`mobilenet_1.00_224_input` is not a valid tf.function parameter name. Sanitizing to `mobilenet_1_00_224_input`.\n",
            "WARNING:absl:`mobilenet_1.00_224_input` is not a valid tf.function parameter name. Sanitizing to `mobilenet_1_00_224_input`.\n",
            "WARNING:absl:`mobilenet_1.00_224_input` is not a valid tf.function parameter name. Sanitizing to `mobilenet_1_00_224_input`.\n"
          ]
        },
        {
          "output_type": "execute_result",
          "data": {
            "text/plain": [
              "60652840"
            ]
          },
          "metadata": {},
          "execution_count": 2
        }
      ],
      "source": [
        "import tensorflow as tf\n",
        "model = tf.keras.models.load_model('model_1.h5')\n",
        "converter = tf.lite.TFLiteConverter.from_keras_model(model)\n",
        "tflmodel = converter.convert()\n",
        "file = open( 'model_1.tflite' , 'wb' )\n",
        "file.write( tflmodel )"
      ]
    }
  ]
}